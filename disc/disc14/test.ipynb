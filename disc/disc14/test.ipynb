{
 "cells": [
  {
   "cell_type": "code",
   "execution_count": null,
   "metadata": {},
   "outputs": [
    {
     "ename": "",
     "evalue": "",
     "output_type": "error",
     "traceback": [
      "\u001b[1;31m无法执行代码，已释放会话。请尝试重新启动内核。"
     ]
    },
    {
     "ename": "",
     "evalue": "",
     "output_type": "error",
     "traceback": [
      "\u001b[1;31m在当前单元格或上一个单元格中执行代码时 Kernel 崩溃。请查看单元格中的代码，以确定故障的可能原因。有关详细信息，请单击 <a href='https://aka.ms/vscodeJupyterKernelCrash'>此处</a>。有关更多详细信息，请查看 Jupyter <a href='command:jupyter.viewOutput'>log</a>。"
     ]
    }
   ],
   "source": [
    "def repeated(f):\n",
    "    \"\"\"\n",
    "    >>> double = lambda x: 2 * x\n",
    "    >>> funcs = repeated(double)\n",
    "    >>> identity = next(funcs)\n",
    "    >>> double = next(funcs)\n",
    "    >>> quad = next(funcs)\n",
    "    >>> oct = next(funcs)\n",
    "    >>> quad(1)\n",
    "    4\n",
    "    >>> oct(1)\n",
    "    8\n",
    "    >>> [g(1) for _, g in\n",
    "    ... zip(range(5), repeated(lambda x: 2 * x))]\n",
    "    [1, 2, 4, 8, 16]\n",
    "    \"\"\"\n",
    "    g = lambda x: x\n",
    "    while True:\n",
    "        yield g\n",
    "        g = lambda x: f(g(x))\n",
    "double = lambda x: 2 * x\n",
    "funcs = repeated(double)\n",
    "identity = next(funcs)\n",
    "double = next(funcs)\n",
    "quad = next(funcs)\n",
    "oct = next(funcs)\n",
    "quad(1)\n",
    "oct(1)"
   ]
  }
 ],
 "metadata": {
  "kernelspec": {
   "display_name": "base",
   "language": "python",
   "name": "python3"
  },
  "language_info": {
   "codemirror_mode": {
    "name": "ipython",
    "version": 3
   },
   "file_extension": ".py",
   "mimetype": "text/x-python",
   "name": "python",
   "nbconvert_exporter": "python",
   "pygments_lexer": "ipython3",
   "version": "3.9.12"
  },
  "orig_nbformat": 4
 },
 "nbformat": 4,
 "nbformat_minor": 2
}
